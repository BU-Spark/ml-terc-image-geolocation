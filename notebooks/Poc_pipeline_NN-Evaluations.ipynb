{
 "cells": [
  {
   "cell_type": "code",
   "execution_count": 1,
   "metadata": {},
   "outputs": [],
   "source": [
    "#import necessary libraries\n",
    "\n",
    "from PIL import Image\n",
    "from PIL.ExifTags import TAGS, GPSTAGS\n",
    "import os\n",
    "import glob\n",
    "\n",
    "from PIL import Image\n",
    "from io import BytesIO\n",
    "\n",
    "import matplotlib.pyplot as plt\n",
    "from IPython.display import display\n",
    "\n",
    "import plotly.graph_objects as go\n",
    "import plotly.io as pio\n",
    "\n",
    "import numpy as np\n",
    "import matplotlib.pyplot as plt\n",
    "from tensorflow.keras.applications.vgg16 import VGG16, preprocess_input\n",
    "from tensorflow.keras.preprocessing.image import img_to_array\n",
    "from scipy.signal import correlate2d\n",
    "import tensorflow as tf\n",
    "from tensorflow.keras.preprocessing.image import img_to_array\n",
    "\n",
    "from scipy.signal import find_peaks\n",
    "import math\n",
    "\n",
    "import pandas as pd\n",
    "from tqdm import tqdm\n",
    "\n",
    "import warnings \n",
    "warnings.filterwarnings('ignore')\n"
   ]
  },
  {
   "cell_type": "code",
   "execution_count": 2,
   "metadata": {},
   "outputs": [],
   "source": [
    "def get_exif_data(image_path):\n",
    "    \"\"\"\n",
    "    Function to extract specific EXIF metadata - GPS coordinates, \n",
    "    camera model, and focal length from an image file. \n",
    "    --------------------------------------------------------------\n",
    "    Parameters:\n",
    "    image_path: A string representing the file path of the image from which the EXIF data is to be extracted.\n",
    "    --------------------------------------------------------------\n",
    "    Returns:\n",
    "    A tuple of lists containing the EXIF tags and their corresponding values.\n",
    "    \"\"\"\n",
    "    desired_tags = ['GPSLatitudeRef', 'GPSLatitude', 'GPSLongitudeRef', 'GPSLongitude', 'GPSAltitude', 'Model', 'FocalLength', \"DateTime\"]\n",
    "\n",
    "    image = Image.open(image_path)\n",
    "    exif_data = image._getexif()\n",
    "    exif_dict = {}\n",
    "\n",
    "    if exif_data is not None:\n",
    "        for key, value in exif_data.items():\n",
    "            if key in TAGS:\n",
    "                tag = TAGS[key]\n",
    "\n",
    "                if tag == 'GPSInfo':\n",
    "                    gps_data = {}\n",
    "                    for t in value:\n",
    "                        sub_tag = GPSTAGS.get(t, t)\n",
    "                        if sub_tag in desired_tags:\n",
    "                            gps_data[sub_tag] = value[t]\n",
    "                    exif_dict.update(gps_data)\n",
    "                elif tag in desired_tags:\n",
    "                    exif_dict[tag] = value\n",
    "\n",
    "    return exif_dict\n",
    "\n",
    "\n",
    "def get_geo_coord(lat, ref_lat, lon, ref_lon):\n",
    "    \"\"\"\n",
    "    Function to convert EXIF GPS coordinates to decimal format.\n",
    "    --------------------------------------------------------------\n",
    "    Parameters:\n",
    "    lat: A list of tuples containing the GPS latitude coordinates in degrees, minutes, and seconds.\n",
    "    ref_lat: A string representing the reference direction(N, S) of the GPS latitude coordinates.\n",
    "    lon: A list of tuples containing the GPS longitude coordinates in degrees, minutes, and seconds.\n",
    "    ref_lon: A string representing the reference direction(E, W) of the GPS longitude coordinates.\n",
    "    --------------------------------------------------------------\n",
    "    Returns:\n",
    "    A tuple of floats representing the GPS coordinates in decimal format.\n",
    "    \"\"\"\n",
    "    deg, minutes, seconds = lat\n",
    "    decimal_deg_lat = deg + (minutes / 60.0) + (seconds / 3600.0)\n",
    "\n",
    "    # Adjusting for the reference direction\n",
    "    if ref_lat == 'S':\n",
    "        decimal_deg_lat *= -1\n",
    "\n",
    "    deg, minutes, seconds = lon\n",
    "    decimal_deg_lon = deg + (minutes / 60.0) + (seconds / 3600.0)\n",
    "\n",
    "    # Adjusting for the reference direction\n",
    "    if ref_lon == 'W':\n",
    "        decimal_deg_lon *= -1\n",
    "\n",
    "    return decimal_deg_lat, decimal_deg_lon\n",
    "\n",
    "\n",
    "def fetch_map_image(lat, lon, zoom, size, mapbox_access_token):\n",
    "    \"\"\"\n",
    "    Function to fetch a static map image using Plotly.\n",
    "    --------------------------------------------------------------\n",
    "    Parameters:\n",
    "    lat (float): Latitude of the location.\n",
    "    lon (float): Longitude of the location.\n",
    "    zoom (int): Zoom level of the image.\n",
    "    size (str): Size of the image in 'widthxheight' format (e.g., '600x400').\n",
    "    altitude (float, optional): Altitude of the location. Used for marker representation.\n",
    "    mapbox_access_token (str): Mapbox access token for rendering the map.\n",
    "    --------------------------------------------------------------\n",
    "    Returns:\n",
    "    A static image (PNG) of the location.\n",
    "    \"\"\"\n",
    "    width, height = map(int, size.split('x'))\n",
    "\n",
    "    # Create a scatter mapbox plot with Plotly\n",
    "    fig = go.Figure(go.Scattermapbox(\n",
    "        lat=[lat],\n",
    "        lon=[lon],\n",
    "    ))\n",
    "\n",
    "    # Set the layout of the map\n",
    "    fig.update_layout(\n",
    "        mapbox=dict(\n",
    "            accesstoken=mapbox_access_token,\n",
    "            center=go.layout.mapbox.Center(lat=lat, lon=lon),\n",
    "            zoom=zoom,\n",
    "            style='satellite'\n",
    "        ),\n",
    "        width=width,\n",
    "        height=height,\n",
    "        margin=dict(l=0, r=0, t=0, b=0),\n",
    "    )\n",
    "\n",
    "    # Generate the figure as a PNG byte array\n",
    "    image_data = pio.to_image(fig, format='png')\n",
    "\n",
    "    pil_image = Image.open(BytesIO(image_data))\n",
    "\n",
    "    return pil_image\n",
    "\n",
    "def extract_features(img, model):\n",
    "    \"\"\"\n",
    "    Function to preprocess the image and extract features\n",
    "    --------------------------------------------------------------\n",
    "    Parameters:\n",
    "    img: A PIL image object.\n",
    "    model: A Keras model object.\n",
    "    --------------------------------------------------------------\n",
    "    Returns:\n",
    "    A 4D NumPy array containing the extracted features.\n",
    "    \"\"\"\n",
    "    img_array = img_to_array(img.resize((512, 512)))\n",
    "    img_array = np.expand_dims(img_array, axis=0)\n",
    "    img_array = preprocess_input(img_array)\n",
    "    features = model.predict(img_array)\n",
    "    return features\n",
    "\n",
    "\n",
    "def find_query_in_aoi(query_features, aoi_features):\n",
    "    \"\"\"\n",
    "    Author: ChatGPT-4\n",
    "    Function to find the location of the query image in the AOI image\n",
    "    --------------------------------------------------------------\n",
    "    Parameters:\n",
    "    query_features: A 4D NumPy array containing the features of the query image.\n",
    "    aoi_features: A 4D NumPy array containing the features of the AOI image.\n",
    "    --------------------------------------------------------------\n",
    "    Returns:\n",
    "    A tuple containing the x and y coordinates of the query image in the AOI image.\n",
    "    \"\"\"\n",
    "    # Perform cross-correlation between the features of the query image and the AOI image\n",
    "    correlation_map = correlate2d(aoi_features[0, :, :, 0], query_features[0, :, :, 0], boundary='wrap', mode='same')\n",
    "    \n",
    "    # Find the location with the highest correlation\n",
    "    y, x = np.unravel_index(np.argmax(correlation_map), correlation_map.shape)\n",
    "    \n",
    "    return (x, y), correlation_map[y, x], correlation_map\n",
    "\n",
    "\n",
    "def mercator_projection(lat):\n",
    "    \"\"\"\n",
    "    Author: ChatGPT-4\n",
    "    This function converts latitude to Mercator projection.\n",
    "    --------------------------------------------------------------\n",
    "    Parameters:\n",
    "    lat (float): Latitude in degrees.\n",
    "    --------------------------------------------------------------\n",
    "    Returns:\n",
    "    float: Latitude in Mercator projection.\n",
    "    \"\"\"\n",
    "    return math.log(math.tan(math.radians(lat) / 2 + math.pi / 4))\n",
    "\n",
    "def calculate_mapbox_bounding_box(lat_center, lon_center, zoom, image_width, image_height):\n",
    "    \"\"\"\n",
    "    Author: ChatGPT-4\n",
    "    This function calculates the bounding box of a Mapbox map.\n",
    "    --------------------------------------------------------------\n",
    "    Parameters:\n",
    "    lat_center (float): Latitude of the center of the map.\n",
    "    lon_center (float): Longitude of the center of the map.\n",
    "    zoom (int): Zoom level of the map.\n",
    "    image_width (int): Width of the image.\n",
    "    image_height (int): Height of the image.\n",
    "    --------------------------------------------------------------\n",
    "    Returns:\n",
    "    tuple: A tuple containing the coordinates of the top-left, top-right, bottom-right, and bottom-left corners of the image.\n",
    "    \"\"\"\n",
    "    # Tile size (in pixels) used by Mapbox\n",
    "    tile_size = 512\n",
    "\n",
    "    # Number of tiles at the given zoom level\n",
    "    num_tiles = 2 ** zoom\n",
    "\n",
    "    # Scale factor at this zoom level\n",
    "    scale = num_tiles * tile_size\n",
    "\n",
    "    # Latitude in Mercator projection\n",
    "    mercator_lat = mercator_projection(lat_center)\n",
    "\n",
    "    # Convert center longitude and latitude to pixel values\n",
    "    pixel_x_center = (lon_center + 180) / 360 * scale\n",
    "    pixel_y_center = (1 - mercator_lat / math.pi) / 2 * scale\n",
    "\n",
    "    # Calculate pixel coordinates of the corners\n",
    "    pixel_x_left = pixel_x_center - image_width / 2\n",
    "    pixel_x_right = pixel_x_center + image_width / 2\n",
    "    pixel_y_top = pixel_y_center - image_height / 2\n",
    "    pixel_y_bottom = pixel_y_center + image_height / 2\n",
    "\n",
    "    # Convert pixel coordinates back to lat/lon\n",
    "    def pixels_to_latlon(px, py):\n",
    "        lon = px / scale * 360 - 180\n",
    "        lat = math.degrees(2 * math.atan(math.exp((1 - 2 * py / scale) * math.pi)) - math.pi / 2)\n",
    "        return lat, lon\n",
    "\n",
    "    top_left = pixels_to_latlon(pixel_x_left, pixel_y_top)\n",
    "    top_right = pixels_to_latlon(pixel_x_right, pixel_y_top)\n",
    "    bottom_right = pixels_to_latlon(pixel_x_right, pixel_y_bottom)\n",
    "    bottom_left = pixels_to_latlon(pixel_x_left, pixel_y_bottom)\n",
    "\n",
    "    return top_left, top_right, bottom_right, bottom_left\n",
    "\n",
    "def find_best_matches(correlation_map):\n",
    "    \"\"\"\n",
    "    This function finds the best and second-best match in the correlation map.\n",
    "    --------------------------------------------------------------\n",
    "    Parameters:\n",
    "    correlation_map (numpy.ndarray): The correlation map obtained from comparing the query image and the AOI.\n",
    "    --------------------------------------------------------------\n",
    "    Returns:\n",
    "    tuple: A tuple containing the coordinates of the best and second-best matches.\n",
    "    \"\"\"\n",
    "    correlation_map_flat = correlation_map.flatten()\n",
    "    peaks, _ = find_peaks(correlation_map_flat, height=0)\n",
    "\n",
    "    if len(peaks) == 0:\n",
    "        return None, None\n",
    "    \n",
    "    elif len(peaks) == 1:\n",
    "        return peaks, None\n",
    "\n",
    "    else:\n",
    "        sorted_peaks = sorted(peaks, key=lambda x: correlation_map_flat[x], reverse=True)\n",
    "        best_match_index = sorted_peaks[0]\n",
    "        second_best_match_index = sorted_peaks[1]\n",
    "        best_match_coords = np.unravel_index(best_match_index, correlation_map.shape)\n",
    "        second_best_match_coords = np.unravel_index(second_best_match_index, correlation_map.shape)\n",
    "        return best_match_coords, second_best_match_coords\n",
    "\n",
    "def find_midpoint(coord1, coord2):\n",
    "    \"\"\"\n",
    "    This function calculates the midpoint between two coordinates.\n",
    "    --------------------------------------------------------------\n",
    "    Parameters:\n",
    "    coord1 (tuple): The first coordinate (x1, y1).\n",
    "    coord2 (tuple): The second coordinate (x2, y2).\n",
    "    --------------------------------------------------------------\n",
    "    Returns:\n",
    "    tuple: The midpoint coordinates.\n",
    "    \"\"\"\n",
    "    midpoint = ((coord1[0] + coord2[0]) / 2, (coord1[1] + coord2[1]) / 2)\n",
    "    return midpoint\n",
    "\n",
    "def scale_correlation_to_aoi(midpoint, correlation_shape, aoi_size):\n",
    "    \"\"\"\n",
    "    Scale the correlation map coordinates to the AOI image size.\n",
    "    --------------------------------------------------------------\n",
    "    Parameters:\n",
    "    midpoint (tuple): The midpoint coordinates of the correlation map.\n",
    "    correlation_shape (tuple): The shape of the correlation map.\n",
    "    aoi_size (tuple): The size of the AOI image.\n",
    "    --------------------------------------------------------------\n",
    "    Returns:\n",
    "    tuple: The scaled coordinates.\n",
    "    \"\"\"\n",
    "    x_scale = aoi_size[0] / correlation_shape[1]\n",
    "    y_scale = aoi_size[1] / correlation_shape[0]\n",
    "    \n",
    "    scaled_x = midpoint[0] * x_scale\n",
    "    scaled_y = midpoint[1] * y_scale\n",
    "    \n",
    "    return scaled_x, scaled_y\n",
    "\n",
    "def interpolate_geo_coordinates(aoi_midpoint, top_left, bottom_right, aoi_size):\n",
    "    \"\"\"\n",
    "    Author: ChatGPT-4\n",
    "    Interpolate the AOI image coordinates to geographical coordinates.\n",
    "    --------------------------------------------------------------\n",
    "    Parameters:\n",
    "    aoi_midpoint (tuple): The midpoint coordinates of the AOI image.\n",
    "    top_left (tuple): The top-left coordinates of the AOI image.\n",
    "    bottom_right (tuple): The bottom-right coordinates of the AOI image.\n",
    "    aoi_size (tuple): The size of the AOI image.\n",
    "    --------------------------------------------------------------\n",
    "    Returns:\n",
    "    tuple: The interpolated geographical coordinates.\n",
    "    \"\"\"\n",
    "    lat_range = top_left[0] - bottom_right[0]\n",
    "    lon_range = bottom_right[1] - top_left[1]\n",
    "    \n",
    "    lat_per_pixel = lat_range / aoi_size[1]\n",
    "    lon_per_pixel = lon_range / aoi_size[0]\n",
    "    \n",
    "    lat = top_left[0] - (aoi_midpoint[1] * lat_per_pixel)\n",
    "    lon = top_left[1] + (aoi_midpoint[0] * lon_per_pixel)\n",
    "    \n",
    "    return lat, lon\n"
   ]
  },
  {
   "cell_type": "code",
   "execution_count": 3,
   "metadata": {},
   "outputs": [
    {
     "name": "stderr",
     "output_type": "stream",
     "text": [
      "Working on files:   0%|          | 0/144 [00:00<?, ?it/s]"
     ]
    },
    {
     "name": "stdout",
     "output_type": "stream",
     "text": [
      "1/1 [==============================] - 1s 889ms/step\n",
      "1/1 [==============================] - 1s 624ms/step\n"
     ]
    },
    {
     "name": "stderr",
     "output_type": "stream",
     "text": [
      "Working on files:   6%|▌         | 8/144 [00:28<08:02,  3.55s/it]"
     ]
    },
    {
     "name": "stdout",
     "output_type": "stream",
     "text": [
      "1/1 [==============================] - 1s 654ms/step\n",
      "1/1 [==============================] - 1s 652ms/step\n"
     ]
    },
    {
     "name": "stderr",
     "output_type": "stream",
     "text": [
      "Working on files:   9%|▉         | 13/144 [00:52<09:06,  4.17s/it]"
     ]
    },
    {
     "name": "stdout",
     "output_type": "stream",
     "text": [
      "1/1 [==============================] - 1s 679ms/step\n",
      "1/1 [==============================] - 1s 650ms/step\n"
     ]
    },
    {
     "name": "stderr",
     "output_type": "stream",
     "text": [
      "Working on files:  10%|▉         | 14/144 [01:18<14:29,  6.69s/it]"
     ]
    },
    {
     "name": "stdout",
     "output_type": "stream",
     "text": [
      "1/1 [==============================] - 1s 642ms/step\n",
      "1/1 [==============================] - 1s 654ms/step\n"
     ]
    },
    {
     "name": "stderr",
     "output_type": "stream",
     "text": [
      "Working on files:  11%|█         | 16/144 [01:42<17:13,  8.08s/it]"
     ]
    },
    {
     "name": "stdout",
     "output_type": "stream",
     "text": [
      "1/1 [==============================] - 1s 641ms/step\n",
      "1/1 [==============================] - 1s 667ms/step\n"
     ]
    },
    {
     "name": "stderr",
     "output_type": "stream",
     "text": [
      "Working on files:  12%|█▎        | 18/144 [02:08<19:48,  9.43s/it]"
     ]
    },
    {
     "name": "stdout",
     "output_type": "stream",
     "text": [
      "1/1 [==============================] - 1s 657ms/step\n",
      "1/1 [==============================] - 1s 658ms/step\n"
     ]
    },
    {
     "name": "stderr",
     "output_type": "stream",
     "text": [
      "Working on files:  13%|█▎        | 19/144 [02:34<25:08, 12.07s/it]"
     ]
    },
    {
     "name": "stdout",
     "output_type": "stream",
     "text": [
      "1/1 [==============================] - 1s 639ms/step\n",
      "1/1 [==============================] - 1s 646ms/step\n"
     ]
    },
    {
     "name": "stderr",
     "output_type": "stream",
     "text": [
      "Working on files:  14%|█▍        | 20/144 [03:02<30:53, 14.94s/it]"
     ]
    },
    {
     "name": "stdout",
     "output_type": "stream",
     "text": [
      "1/1 [==============================] - 1s 639ms/step\n",
      "1/1 [==============================] - 1s 649ms/step\n"
     ]
    },
    {
     "name": "stderr",
     "output_type": "stream",
     "text": [
      "Working on files:  15%|█▍        | 21/144 [04:24<59:21, 28.95s/it]"
     ]
    },
    {
     "name": "stdout",
     "output_type": "stream",
     "text": [
      "1/1 [==============================] - 1s 636ms/step\n",
      "1/1 [==============================] - 1s 678ms/step\n"
     ]
    },
    {
     "name": "stderr",
     "output_type": "stream",
     "text": [
      "Working on files:  15%|█▌        | 22/144 [04:52<58:23, 28.71s/it]"
     ]
    },
    {
     "name": "stdout",
     "output_type": "stream",
     "text": [
      "1/1 [==============================] - 1s 675ms/step\n",
      "1/1 [==============================] - 1s 650ms/step\n"
     ]
    },
    {
     "name": "stderr",
     "output_type": "stream",
     "text": [
      "Working on files:  16%|█▌        | 23/144 [06:06<1:20:57, 40.14s/it]"
     ]
    },
    {
     "name": "stdout",
     "output_type": "stream",
     "text": [
      "1/1 [==============================] - 1s 658ms/step\n",
      "1/1 [==============================] - 1s 675ms/step\n"
     ]
    },
    {
     "name": "stderr",
     "output_type": "stream",
     "text": [
      "Working on files:  17%|█▋        | 24/144 [06:33<1:13:23, 36.69s/it]"
     ]
    },
    {
     "name": "stdout",
     "output_type": "stream",
     "text": [
      "1/1 [==============================] - 1s 688ms/step\n",
      "1/1 [==============================] - 1s 672ms/step\n"
     ]
    },
    {
     "name": "stderr",
     "output_type": "stream",
     "text": [
      "Working on files:  17%|█▋        | 25/144 [07:15<1:15:15, 37.94s/it]"
     ]
    },
    {
     "name": "stdout",
     "output_type": "stream",
     "text": [
      "1/1 [==============================] - 1s 674ms/step\n",
      "1/1 [==============================] - 1s 685ms/step\n"
     ]
    },
    {
     "name": "stderr",
     "output_type": "stream",
     "text": [
      "Working on files:  18%|█▊        | 26/144 [07:41<1:08:15, 34.71s/it]"
     ]
    },
    {
     "name": "stdout",
     "output_type": "stream",
     "text": [
      "1/1 [==============================] - 1s 671ms/step\n",
      "1/1 [==============================] - 1s 649ms/step\n"
     ]
    },
    {
     "name": "stderr",
     "output_type": "stream",
     "text": [
      "Working on files:  19%|█▉        | 27/144 [09:10<1:37:38, 50.07s/it]"
     ]
    },
    {
     "name": "stdout",
     "output_type": "stream",
     "text": [
      "1/1 [==============================] - 1s 672ms/step\n",
      "1/1 [==============================] - 1s 691ms/step\n"
     ]
    },
    {
     "name": "stderr",
     "output_type": "stream",
     "text": [
      "Working on files:  19%|█▉        | 28/144 [09:39<1:25:09, 44.05s/it]"
     ]
    },
    {
     "name": "stdout",
     "output_type": "stream",
     "text": [
      "1/1 [==============================] - 1s 672ms/step\n",
      "1/1 [==============================] - 1s 704ms/step\n"
     ]
    },
    {
     "name": "stderr",
     "output_type": "stream",
     "text": [
      "Working on files:  20%|██        | 29/144 [10:05<1:14:30, 38.87s/it]"
     ]
    },
    {
     "name": "stdout",
     "output_type": "stream",
     "text": [
      "1/1 [==============================] - 1s 653ms/step\n",
      "1/1 [==============================] - 1s 656ms/step\n"
     ]
    },
    {
     "name": "stderr",
     "output_type": "stream",
     "text": [
      "Working on files:  21%|██        | 30/144 [10:31<1:06:33, 35.03s/it]"
     ]
    },
    {
     "name": "stdout",
     "output_type": "stream",
     "text": [
      "1/1 [==============================] - 1s 652ms/step\n",
      "1/1 [==============================] - 1s 645ms/step\n"
     ]
    },
    {
     "name": "stderr",
     "output_type": "stream",
     "text": [
      "Working on files:  22%|██▏       | 31/144 [11:38<1:24:04, 44.64s/it]"
     ]
    },
    {
     "name": "stdout",
     "output_type": "stream",
     "text": [
      "1/1 [==============================] - 1s 668ms/step\n",
      "1/1 [==============================] - 1s 648ms/step\n"
     ]
    },
    {
     "name": "stderr",
     "output_type": "stream",
     "text": [
      "Working on files:  22%|██▏       | 32/144 [13:06<1:47:03, 57.36s/it]"
     ]
    },
    {
     "name": "stdout",
     "output_type": "stream",
     "text": [
      "1/1 [==============================] - 1s 663ms/step\n",
      "1/1 [==============================] - 1s 665ms/step\n"
     ]
    },
    {
     "name": "stderr",
     "output_type": "stream",
     "text": [
      "Working on files:  23%|██▎       | 33/144 [13:33<1:29:21, 48.30s/it]"
     ]
    },
    {
     "name": "stdout",
     "output_type": "stream",
     "text": [
      "1/1 [==============================] - 1s 662ms/step\n",
      "1/1 [==============================] - 1s 674ms/step\n"
     ]
    },
    {
     "name": "stderr",
     "output_type": "stream",
     "text": [
      "Working on files:  24%|██▎       | 34/144 [14:19<1:27:17, 47.62s/it]"
     ]
    },
    {
     "name": "stdout",
     "output_type": "stream",
     "text": [
      "1/1 [==============================] - 1s 658ms/step\n",
      "1/1 [==============================] - 1s 705ms/step\n"
     ]
    },
    {
     "name": "stderr",
     "output_type": "stream",
     "text": [
      "Working on files:  24%|██▍       | 35/144 [14:42<1:13:13, 40.30s/it]"
     ]
    },
    {
     "name": "stdout",
     "output_type": "stream",
     "text": [
      "1/1 [==============================] - 1s 674ms/step\n",
      "1/1 [==============================] - 1s 644ms/step\n"
     ]
    },
    {
     "name": "stderr",
     "output_type": "stream",
     "text": [
      "Working on files:  25%|██▌       | 36/144 [16:15<1:40:46, 55.99s/it]"
     ]
    },
    {
     "name": "stdout",
     "output_type": "stream",
     "text": [
      "1/1 [==============================] - 1s 661ms/step\n",
      "1/1 [==============================] - 1s 667ms/step\n"
     ]
    },
    {
     "name": "stderr",
     "output_type": "stream",
     "text": [
      "Working on files:  26%|██▌       | 37/144 [16:53<1:30:33, 50.78s/it]"
     ]
    },
    {
     "name": "stdout",
     "output_type": "stream",
     "text": [
      "1/1 [==============================] - 1s 651ms/step\n",
      "1/1 [==============================] - 1s 673ms/step\n"
     ]
    },
    {
     "name": "stderr",
     "output_type": "stream",
     "text": [
      "Working on files:  26%|██▋       | 38/144 [17:20<1:16:41, 43.41s/it]"
     ]
    },
    {
     "name": "stdout",
     "output_type": "stream",
     "text": [
      "1/1 [==============================] - 1s 713ms/step\n",
      "1/1 [==============================] - 1s 665ms/step\n"
     ]
    },
    {
     "name": "stderr",
     "output_type": "stream",
     "text": [
      "Working on files:  27%|██▋       | 39/144 [18:44<1:37:44, 55.85s/it]"
     ]
    },
    {
     "name": "stdout",
     "output_type": "stream",
     "text": [
      "1/1 [==============================] - 1s 674ms/step\n",
      "1/1 [==============================] - 1s 681ms/step\n"
     ]
    },
    {
     "name": "stderr",
     "output_type": "stream",
     "text": [
      "Working on files:  28%|██▊       | 40/144 [19:53<1:43:13, 59.56s/it]"
     ]
    },
    {
     "name": "stdout",
     "output_type": "stream",
     "text": [
      "1/1 [==============================] - 1s 639ms/step\n",
      "1/1 [==============================] - 1s 644ms/step\n"
     ]
    },
    {
     "name": "stderr",
     "output_type": "stream",
     "text": [
      "Working on files:  28%|██▊       | 41/144 [20:29<1:30:09, 52.52s/it]"
     ]
    },
    {
     "name": "stdout",
     "output_type": "stream",
     "text": [
      "1/1 [==============================] - 1s 681ms/step\n",
      "1/1 [==============================] - 1s 656ms/step\n"
     ]
    },
    {
     "name": "stderr",
     "output_type": "stream",
     "text": [
      "Working on files:  29%|██▉       | 42/144 [22:05<1:51:27, 65.56s/it]"
     ]
    },
    {
     "name": "stdout",
     "output_type": "stream",
     "text": [
      "1/1 [==============================] - 1s 632ms/step\n",
      "1/1 [==============================] - 1s 650ms/step\n"
     ]
    },
    {
     "name": "stderr",
     "output_type": "stream",
     "text": [
      "Working on files:  30%|██▉       | 43/144 [22:32<1:30:48, 53.94s/it]"
     ]
    },
    {
     "name": "stdout",
     "output_type": "stream",
     "text": [
      "1/1 [==============================] - 1s 665ms/step\n",
      "1/1 [==============================] - 1s 663ms/step\n"
     ]
    },
    {
     "name": "stderr",
     "output_type": "stream",
     "text": [
      "Working on files:  31%|███       | 44/144 [24:08<1:51:14, 66.74s/it]"
     ]
    },
    {
     "name": "stdout",
     "output_type": "stream",
     "text": [
      "1/1 [==============================] - 1s 672ms/step\n",
      "1/1 [==============================] - 1s 699ms/step\n"
     ]
    },
    {
     "name": "stderr",
     "output_type": "stream",
     "text": [
      "Working on files:  31%|███▏      | 45/144 [24:33<1:29:37, 54.32s/it]"
     ]
    },
    {
     "name": "stdout",
     "output_type": "stream",
     "text": [
      "1/1 [==============================] - 1s 673ms/step\n",
      "1/1 [==============================] - 1s 659ms/step\n"
     ]
    },
    {
     "name": "stderr",
     "output_type": "stream",
     "text": [
      "Working on files:  32%|███▏      | 46/144 [24:58<1:14:12, 45.44s/it]"
     ]
    },
    {
     "name": "stdout",
     "output_type": "stream",
     "text": [
      "1/1 [==============================] - 1s 669ms/step\n",
      "1/1 [==============================] - 1s 638ms/step\n"
     ]
    },
    {
     "name": "stderr",
     "output_type": "stream",
     "text": [
      "Working on files:  33%|███▎      | 47/144 [26:04<1:23:30, 51.65s/it]"
     ]
    },
    {
     "name": "stdout",
     "output_type": "stream",
     "text": [
      "1/1 [==============================] - 1s 663ms/step\n",
      "1/1 [==============================] - 1s 664ms/step\n"
     ]
    },
    {
     "name": "stderr",
     "output_type": "stream",
     "text": [
      "Working on files:  33%|███▎      | 48/144 [27:14<1:31:03, 56.92s/it]"
     ]
    },
    {
     "name": "stdout",
     "output_type": "stream",
     "text": [
      "1/1 [==============================] - 1s 814ms/step\n",
      "1/1 [==============================] - 1s 819ms/step\n"
     ]
    },
    {
     "name": "stderr",
     "output_type": "stream",
     "text": [
      "Working on files:  34%|███▍      | 49/144 [27:40<1:15:30, 47.69s/it]"
     ]
    },
    {
     "name": "stdout",
     "output_type": "stream",
     "text": [
      "1/1 [==============================] - 1s 666ms/step\n",
      "1/1 [==============================] - 1s 652ms/step\n"
     ]
    },
    {
     "name": "stderr",
     "output_type": "stream",
     "text": [
      "Working on files:  35%|███▍      | 50/144 [28:06<1:04:32, 41.19s/it]"
     ]
    },
    {
     "name": "stdout",
     "output_type": "stream",
     "text": [
      "1/1 [==============================] - 1s 679ms/step\n",
      "1/1 [==============================] - 1s 726ms/step\n"
     ]
    },
    {
     "name": "stderr",
     "output_type": "stream",
     "text": [
      "Working on files:  35%|███▌      | 51/144 [28:34<57:37, 37.18s/it]  "
     ]
    },
    {
     "name": "stdout",
     "output_type": "stream",
     "text": [
      "1/1 [==============================] - 1s 604ms/step\n",
      "1/1 [==============================] - 1s 597ms/step\n"
     ]
    },
    {
     "name": "stderr",
     "output_type": "stream",
     "text": [
      "Working on files:  36%|███▌      | 52/144 [29:57<1:18:11, 51.00s/it]"
     ]
    },
    {
     "name": "stdout",
     "output_type": "stream",
     "text": [
      "1/1 [==============================] - 1s 585ms/step\n",
      "1/1 [==============================] - 1s 613ms/step\n"
     ]
    },
    {
     "name": "stderr",
     "output_type": "stream",
     "text": [
      "Working on files:  37%|███▋      | 53/144 [31:16<1:30:07, 59.42s/it]"
     ]
    },
    {
     "name": "stdout",
     "output_type": "stream",
     "text": [
      "1/1 [==============================] - 1s 659ms/step\n",
      "1/1 [==============================] - 1s 628ms/step\n"
     ]
    },
    {
     "name": "stderr",
     "output_type": "stream",
     "text": [
      "Working on files:  38%|███▊      | 54/144 [31:39<1:12:43, 48.48s/it]"
     ]
    },
    {
     "name": "stdout",
     "output_type": "stream",
     "text": [
      "1/1 [==============================] - 1s 602ms/step\n",
      "1/1 [==============================] - 1s 659ms/step\n"
     ]
    },
    {
     "name": "stderr",
     "output_type": "stream",
     "text": [
      "Working on files:  38%|███▊      | 55/144 [32:02<1:00:33, 40.83s/it]"
     ]
    },
    {
     "name": "stdout",
     "output_type": "stream",
     "text": [
      "1/1 [==============================] - 1s 585ms/step\n",
      "1/1 [==============================] - 1s 607ms/step\n"
     ]
    },
    {
     "name": "stderr",
     "output_type": "stream",
     "text": [
      "Working on files:  39%|███▉      | 56/144 [32:26<52:37, 35.88s/it]  "
     ]
    },
    {
     "name": "stdout",
     "output_type": "stream",
     "text": [
      "1/1 [==============================] - 1s 575ms/step\n",
      "1/1 [==============================] - 1s 593ms/step\n"
     ]
    },
    {
     "name": "stderr",
     "output_type": "stream",
     "text": [
      "Working on files:  40%|███▉      | 57/144 [33:24<1:01:34, 42.46s/it]"
     ]
    },
    {
     "name": "stdout",
     "output_type": "stream",
     "text": [
      "1/1 [==============================] - 1s 576ms/step\n",
      "1/1 [==============================] - 1s 596ms/step\n"
     ]
    },
    {
     "name": "stderr",
     "output_type": "stream",
     "text": [
      "Working on files:  40%|████      | 58/144 [34:32<1:11:48, 50.10s/it]"
     ]
    },
    {
     "name": "stdout",
     "output_type": "stream",
     "text": [
      "1/1 [==============================] - 1s 572ms/step\n",
      "1/1 [==============================] - 1s 660ms/step\n"
     ]
    },
    {
     "name": "stderr",
     "output_type": "stream",
     "text": [
      "Working on files:  41%|████      | 59/144 [35:11<1:06:24, 46.88s/it]"
     ]
    },
    {
     "name": "stdout",
     "output_type": "stream",
     "text": [
      "1/1 [==============================] - 1s 588ms/step\n",
      "1/1 [==============================] - 1s 609ms/step\n"
     ]
    },
    {
     "name": "stderr",
     "output_type": "stream",
     "text": [
      "Working on files:  42%|████▏     | 60/144 [35:34<55:42, 39.79s/it]  "
     ]
    },
    {
     "name": "stdout",
     "output_type": "stream",
     "text": [
      "1/1 [==============================] - 1s 665ms/step\n",
      "1/1 [==============================] - 1s 680ms/step\n"
     ]
    },
    {
     "name": "stderr",
     "output_type": "stream",
     "text": [
      "Working on files:  42%|████▏     | 61/144 [35:58<48:15, 34.88s/it]"
     ]
    },
    {
     "name": "stdout",
     "output_type": "stream",
     "text": [
      "1/1 [==============================] - 1s 590ms/step\n",
      "1/1 [==============================] - 1s 629ms/step\n"
     ]
    },
    {
     "name": "stderr",
     "output_type": "stream",
     "text": [
      "Working on files:  43%|████▎     | 62/144 [36:22<43:26, 31.79s/it]"
     ]
    },
    {
     "name": "stdout",
     "output_type": "stream",
     "text": [
      "1/1 [==============================] - 1s 593ms/step\n",
      "1/1 [==============================] - 1s 630ms/step\n"
     ]
    },
    {
     "name": "stderr",
     "output_type": "stream",
     "text": [
      "Working on files:  44%|████▍     | 64/144 [36:47<30:27, 22.85s/it]"
     ]
    },
    {
     "name": "stdout",
     "output_type": "stream",
     "text": [
      "1/1 [==============================] - 1s 584ms/step\n",
      "1/1 [==============================] - 1s 625ms/step\n"
     ]
    },
    {
     "name": "stderr",
     "output_type": "stream",
     "text": [
      "Working on files:  45%|████▌     | 65/144 [37:46<41:43, 31.69s/it]"
     ]
    },
    {
     "name": "stdout",
     "output_type": "stream",
     "text": [
      "1/1 [==============================] - 1s 581ms/step\n",
      "1/1 [==============================] - 1s 623ms/step\n"
     ]
    },
    {
     "name": "stderr",
     "output_type": "stream",
     "text": [
      "Working on files:  46%|████▌     | 66/144 [38:10<38:36, 29.70s/it]"
     ]
    },
    {
     "name": "stdout",
     "output_type": "stream",
     "text": [
      "1/1 [==============================] - 1s 599ms/step\n",
      "1/1 [==============================] - 1s 669ms/step\n"
     ]
    },
    {
     "name": "stderr",
     "output_type": "stream",
     "text": [
      "Working on files:  47%|████▋     | 67/144 [38:34<36:04, 28.11s/it]"
     ]
    },
    {
     "name": "stdout",
     "output_type": "stream",
     "text": [
      "1/1 [==============================] - 1s 618ms/step\n",
      "1/1 [==============================] - 1s 631ms/step\n"
     ]
    },
    {
     "name": "stderr",
     "output_type": "stream",
     "text": [
      "Working on files:  47%|████▋     | 68/144 [39:48<51:48, 40.91s/it]"
     ]
    },
    {
     "name": "stdout",
     "output_type": "stream",
     "text": [
      "1/1 [==============================] - 1s 617ms/step\n",
      "1/1 [==============================] - 1s 602ms/step\n"
     ]
    },
    {
     "name": "stderr",
     "output_type": "stream",
     "text": [
      "Working on files:  48%|████▊     | 69/144 [40:44<56:30, 45.20s/it]"
     ]
    },
    {
     "name": "stdout",
     "output_type": "stream",
     "text": [
      "1/1 [==============================] - 1s 617ms/step\n",
      "1/1 [==============================] - 1s 634ms/step\n"
     ]
    },
    {
     "name": "stderr",
     "output_type": "stream",
     "text": [
      "Working on files:  49%|████▊     | 70/144 [41:06<47:47, 38.75s/it]"
     ]
    },
    {
     "name": "stdout",
     "output_type": "stream",
     "text": [
      "1/1 [==============================] - 1s 915ms/step\n",
      "1/1 [==============================] - 1s 924ms/step\n"
     ]
    },
    {
     "name": "stderr",
     "output_type": "stream",
     "text": [
      "Working on files:  49%|████▉     | 71/144 [42:44<1:07:56, 55.84s/it]"
     ]
    },
    {
     "name": "stdout",
     "output_type": "stream",
     "text": [
      "1/1 [==============================] - 1s 656ms/step\n",
      "1/1 [==============================] - 1s 643ms/step\n"
     ]
    },
    {
     "name": "stderr",
     "output_type": "stream",
     "text": [
      "Working on files:  50%|█████     | 72/144 [44:07<1:16:44, 63.95s/it]"
     ]
    },
    {
     "name": "stdout",
     "output_type": "stream",
     "text": [
      "1/1 [==============================] - 1s 635ms/step\n",
      "1/1 [==============================] - 1s 619ms/step\n"
     ]
    },
    {
     "name": "stderr",
     "output_type": "stream",
     "text": [
      "Working on files:  51%|█████     | 73/144 [45:35<1:24:15, 71.20s/it]"
     ]
    },
    {
     "name": "stdout",
     "output_type": "stream",
     "text": [
      "1/1 [==============================] - 1s 606ms/step\n",
      "1/1 [==============================] - 1s 706ms/step\n"
     ]
    },
    {
     "name": "stderr",
     "output_type": "stream",
     "text": [
      "Working on files:  51%|█████▏    | 74/144 [46:57<1:26:33, 74.19s/it]"
     ]
    },
    {
     "name": "stdout",
     "output_type": "stream",
     "text": [
      "1/1 [==============================] - 1s 760ms/step\n",
      "1/1 [==============================] - 1s 837ms/step\n"
     ]
    },
    {
     "name": "stderr",
     "output_type": "stream",
     "text": [
      "Working on files:  52%|█████▏    | 75/144 [48:09<1:24:39, 73.61s/it]"
     ]
    },
    {
     "name": "stdout",
     "output_type": "stream",
     "text": [
      "1/1 [==============================] - 1s 610ms/step\n",
      "1/1 [==============================] - 1s 638ms/step\n"
     ]
    },
    {
     "name": "stderr",
     "output_type": "stream",
     "text": [
      "Working on files:  53%|█████▎    | 76/144 [49:08<1:18:22, 69.15s/it]"
     ]
    },
    {
     "name": "stdout",
     "output_type": "stream",
     "text": [
      "1/1 [==============================] - 1s 649ms/step\n",
      "1/1 [==============================] - 1s 752ms/step\n"
     ]
    },
    {
     "name": "stderr",
     "output_type": "stream",
     "text": [
      "Working on files:  53%|█████▎    | 77/144 [50:21<1:18:30, 70.31s/it]"
     ]
    },
    {
     "name": "stdout",
     "output_type": "stream",
     "text": [
      "1/1 [==============================] - 1s 660ms/step\n",
      "1/1 [==============================] - 1s 700ms/step\n"
     ]
    },
    {
     "name": "stderr",
     "output_type": "stream",
     "text": [
      "Working on files:  54%|█████▍    | 78/144 [51:26<1:15:44, 68.86s/it]"
     ]
    },
    {
     "name": "stdout",
     "output_type": "stream",
     "text": [
      "1/1 [==============================] - 1s 626ms/step\n",
      "1/1 [==============================] - 1s 667ms/step\n"
     ]
    },
    {
     "name": "stderr",
     "output_type": "stream",
     "text": [
      "Working on files:  55%|█████▍    | 79/144 [51:52<1:00:33, 55.89s/it]"
     ]
    },
    {
     "name": "stdout",
     "output_type": "stream",
     "text": [
      "1/1 [==============================] - 1s 655ms/step\n",
      "1/1 [==============================] - 1s 645ms/step\n"
     ]
    },
    {
     "name": "stderr",
     "output_type": "stream",
     "text": [
      "Working on files:  56%|█████▌    | 80/144 [52:22<51:27, 48.24s/it]  "
     ]
    },
    {
     "name": "stdout",
     "output_type": "stream",
     "text": [
      "1/1 [==============================] - 1s 680ms/step\n",
      "1/1 [==============================] - 1s 666ms/step\n"
     ]
    },
    {
     "name": "stderr",
     "output_type": "stream",
     "text": [
      "Working on files:  56%|█████▋    | 81/144 [52:47<43:21, 41.29s/it]"
     ]
    },
    {
     "name": "stdout",
     "output_type": "stream",
     "text": [
      "1/1 [==============================] - 1s 606ms/step\n",
      "1/1 [==============================] - 1s 708ms/step\n"
     ]
    },
    {
     "name": "stderr",
     "output_type": "stream",
     "text": [
      "Working on files:  57%|█████▋    | 82/144 [54:16<57:25, 55.57s/it]"
     ]
    },
    {
     "name": "stdout",
     "output_type": "stream",
     "text": [
      "1/1 [==============================] - 1s 632ms/step\n",
      "1/1 [==============================] - 1s 658ms/step\n"
     ]
    },
    {
     "name": "stderr",
     "output_type": "stream",
     "text": [
      "Working on files:  58%|█████▊    | 83/144 [54:40<46:44, 45.98s/it]"
     ]
    },
    {
     "name": "stdout",
     "output_type": "stream",
     "text": [
      "1/1 [==============================] - 1s 694ms/step\n",
      "1/1 [==============================] - 1s 685ms/step\n"
     ]
    },
    {
     "name": "stderr",
     "output_type": "stream",
     "text": [
      "Working on files:  58%|█████▊    | 84/144 [55:36<49:05, 49.09s/it]"
     ]
    },
    {
     "name": "stdout",
     "output_type": "stream",
     "text": [
      "1/1 [==============================] - 1s 621ms/step\n",
      "1/1 [==============================] - 1s 634ms/step\n"
     ]
    },
    {
     "name": "stderr",
     "output_type": "stream",
     "text": [
      "Working on files:  59%|█████▉    | 85/144 [56:41<52:54, 53.80s/it]"
     ]
    },
    {
     "name": "stdout",
     "output_type": "stream",
     "text": [
      "1/1 [==============================] - 1s 603ms/step\n",
      "1/1 [==============================] - 1s 754ms/step\n"
     ]
    },
    {
     "name": "stderr",
     "output_type": "stream",
     "text": [
      "Working on files:  60%|█████▉    | 86/144 [57:50<56:38, 58.59s/it]"
     ]
    },
    {
     "name": "stdout",
     "output_type": "stream",
     "text": [
      "1/1 [==============================] - 1s 651ms/step\n",
      "1/1 [==============================] - 1s 704ms/step\n"
     ]
    },
    {
     "name": "stderr",
     "output_type": "stream",
     "text": [
      "Working on files:  60%|██████    | 87/144 [58:17<46:26, 48.88s/it]"
     ]
    },
    {
     "name": "stdout",
     "output_type": "stream",
     "text": [
      "1/1 [==============================] - 1s 607ms/step\n",
      "1/1 [==============================] - 1s 644ms/step\n"
     ]
    },
    {
     "name": "stderr",
     "output_type": "stream",
     "text": [
      "Working on files:  61%|██████    | 88/144 [59:41<55:39, 59.64s/it]"
     ]
    },
    {
     "name": "stdout",
     "output_type": "stream",
     "text": [
      "1/1 [==============================] - 1s 635ms/step\n",
      "1/1 [==============================] - 1s 765ms/step\n"
     ]
    },
    {
     "name": "stderr",
     "output_type": "stream",
     "text": [
      "Working on files:  62%|██████▏   | 89/144 [1:00:06<45:08, 49.25s/it]"
     ]
    },
    {
     "name": "stdout",
     "output_type": "stream",
     "text": [
      "1/1 [==============================] - 1s 637ms/step\n",
      "1/1 [==============================] - 1s 637ms/step\n"
     ]
    },
    {
     "name": "stderr",
     "output_type": "stream",
     "text": [
      "Working on files:  63%|██████▎   | 91/144 [1:00:32<28:41, 32.48s/it]"
     ]
    },
    {
     "name": "stdout",
     "output_type": "stream",
     "text": [
      "1/1 [==============================] - 1s 702ms/step\n",
      "1/1 [==============================] - 1s 776ms/step\n"
     ]
    },
    {
     "name": "stderr",
     "output_type": "stream",
     "text": [
      "Working on files:  64%|██████▍   | 92/144 [1:01:02<27:36, 31.85s/it]"
     ]
    },
    {
     "name": "stdout",
     "output_type": "stream",
     "text": [
      "1/1 [==============================] - 1s 673ms/step\n",
      "1/1 [==============================] - 1s 664ms/step\n"
     ]
    },
    {
     "name": "stderr",
     "output_type": "stream",
     "text": [
      "Working on files:  65%|██████▍   | 93/144 [1:01:28<25:40, 30.22s/it]"
     ]
    },
    {
     "name": "stdout",
     "output_type": "stream",
     "text": [
      "1/1 [==============================] - 1s 640ms/step\n",
      "1/1 [==============================] - 1s 688ms/step\n"
     ]
    },
    {
     "name": "stderr",
     "output_type": "stream",
     "text": [
      "Working on files:  65%|██████▌   | 94/144 [1:01:51<23:37, 28.34s/it]"
     ]
    },
    {
     "name": "stdout",
     "output_type": "stream",
     "text": [
      "1/1 [==============================] - 1s 626ms/step\n",
      "1/1 [==============================] - 1s 651ms/step\n"
     ]
    },
    {
     "name": "stderr",
     "output_type": "stream",
     "text": [
      "Working on files:  66%|██████▌   | 95/144 [1:02:23<23:56, 29.31s/it]"
     ]
    },
    {
     "name": "stdout",
     "output_type": "stream",
     "text": [
      "1/1 [==============================] - 1s 625ms/step\n",
      "1/1 [==============================] - 1s 640ms/step\n"
     ]
    },
    {
     "name": "stderr",
     "output_type": "stream",
     "text": [
      "Working on files:  67%|██████▋   | 96/144 [1:03:02<25:47, 32.23s/it]"
     ]
    },
    {
     "name": "stdout",
     "output_type": "stream",
     "text": [
      "1/1 [==============================] - 1s 645ms/step\n",
      "1/1 [==============================] - 1s 627ms/step\n"
     ]
    },
    {
     "name": "stderr",
     "output_type": "stream",
     "text": [
      "Working on files:  67%|██████▋   | 97/144 [1:03:47<28:08, 35.93s/it]"
     ]
    },
    {
     "name": "stdout",
     "output_type": "stream",
     "text": [
      "1/1 [==============================] - 1s 668ms/step\n",
      "1/1 [==============================] - 1s 747ms/step\n"
     ]
    },
    {
     "name": "stderr",
     "output_type": "stream",
     "text": [
      "Working on files:  68%|██████▊   | 98/144 [1:05:03<36:29, 47.59s/it]"
     ]
    },
    {
     "name": "stdout",
     "output_type": "stream",
     "text": [
      "1/1 [==============================] - 1s 651ms/step\n",
      "1/1 [==============================] - 1s 731ms/step\n"
     ]
    },
    {
     "name": "stderr",
     "output_type": "stream",
     "text": [
      "Working on files:  69%|██████▉   | 99/144 [1:06:17<41:28, 55.30s/it]"
     ]
    },
    {
     "name": "stdout",
     "output_type": "stream",
     "text": [
      "1/1 [==============================] - 1s 631ms/step\n",
      "1/1 [==============================] - 1s 667ms/step\n"
     ]
    },
    {
     "name": "stderr",
     "output_type": "stream",
     "text": [
      "Working on files:  69%|██████▉   | 100/144 [1:06:59<37:42, 51.42s/it]"
     ]
    },
    {
     "name": "stdout",
     "output_type": "stream",
     "text": [
      "1/1 [==============================] - 1s 617ms/step\n",
      "1/1 [==============================] - 1s 633ms/step\n"
     ]
    },
    {
     "name": "stderr",
     "output_type": "stream",
     "text": [
      "Working on files:  70%|███████   | 101/144 [1:07:23<30:57, 43.20s/it]"
     ]
    },
    {
     "name": "stdout",
     "output_type": "stream",
     "text": [
      "1/1 [==============================] - 1s 630ms/step\n",
      "1/1 [==============================] - 1s 618ms/step\n"
     ]
    },
    {
     "name": "stderr",
     "output_type": "stream",
     "text": [
      "Working on files:  71%|███████   | 102/144 [1:07:48<26:23, 37.69s/it]"
     ]
    },
    {
     "name": "stdout",
     "output_type": "stream",
     "text": [
      "1/1 [==============================] - 1s 636ms/step\n",
      "1/1 [==============================] - 1s 636ms/step\n"
     ]
    },
    {
     "name": "stderr",
     "output_type": "stream",
     "text": [
      "Working on files:  72%|███████▏  | 103/144 [1:09:17<36:12, 53.00s/it]"
     ]
    },
    {
     "name": "stdout",
     "output_type": "stream",
     "text": [
      "1/1 [==============================] - 1s 654ms/step\n",
      "1/1 [==============================] - 1s 800ms/step\n"
     ]
    },
    {
     "name": "stderr",
     "output_type": "stream",
     "text": [
      "Working on files:  72%|███████▏  | 104/144 [1:10:39<41:09, 61.74s/it]"
     ]
    },
    {
     "name": "stdout",
     "output_type": "stream",
     "text": [
      "1/1 [==============================] - 1s 673ms/step\n",
      "1/1 [==============================] - 1s 831ms/step\n"
     ]
    },
    {
     "name": "stderr",
     "output_type": "stream",
     "text": [
      "Working on files:  73%|███████▎  | 105/144 [1:11:06<33:29, 51.52s/it]"
     ]
    },
    {
     "name": "stdout",
     "output_type": "stream",
     "text": [
      "1/1 [==============================] - 1s 800ms/step\n",
      "1/1 [==============================] - 1s 752ms/step\n"
     ]
    },
    {
     "name": "stderr",
     "output_type": "stream",
     "text": [
      "Working on files:  74%|███████▎  | 106/144 [1:11:31<27:36, 43.59s/it]"
     ]
    },
    {
     "name": "stdout",
     "output_type": "stream",
     "text": [
      "1/1 [==============================] - 1s 745ms/step\n",
      "1/1 [==============================] - 1s 738ms/step\n"
     ]
    },
    {
     "name": "stderr",
     "output_type": "stream",
     "text": [
      "Working on files:  74%|███████▍  | 107/144 [1:11:58<23:46, 38.56s/it]"
     ]
    },
    {
     "name": "stdout",
     "output_type": "stream",
     "text": [
      "1/1 [==============================] - 1s 718ms/step\n",
      "1/1 [==============================] - 1s 717ms/step\n"
     ]
    },
    {
     "name": "stderr",
     "output_type": "stream",
     "text": [
      "Working on files:  75%|███████▌  | 108/144 [1:12:52<25:54, 43.19s/it]"
     ]
    },
    {
     "name": "stdout",
     "output_type": "stream",
     "text": [
      "1/1 [==============================] - 1s 622ms/step\n",
      "1/1 [==============================] - 1s 732ms/step\n"
     ]
    },
    {
     "name": "stderr",
     "output_type": "stream",
     "text": [
      "Working on files:  76%|███████▌  | 109/144 [1:13:52<28:03, 48.10s/it]"
     ]
    },
    {
     "name": "stdout",
     "output_type": "stream",
     "text": [
      "1/1 [==============================] - 1s 805ms/step\n",
      "1/1 [==============================] - 1s 717ms/step\n"
     ]
    },
    {
     "name": "stderr",
     "output_type": "stream",
     "text": [
      "Working on files:  76%|███████▋  | 110/144 [1:15:05<31:29, 55.58s/it]"
     ]
    },
    {
     "name": "stdout",
     "output_type": "stream",
     "text": [
      "1/1 [==============================] - 1s 673ms/step\n",
      "1/1 [==============================] - 1s 794ms/step\n"
     ]
    },
    {
     "name": "stderr",
     "output_type": "stream",
     "text": [
      "Working on files:  77%|███████▋  | 111/144 [1:16:02<30:49, 56.03s/it]"
     ]
    },
    {
     "name": "stdout",
     "output_type": "stream",
     "text": [
      "1/1 [==============================] - 1s 820ms/step\n",
      "1/1 [==============================] - 1s 870ms/step\n"
     ]
    },
    {
     "name": "stderr",
     "output_type": "stream",
     "text": [
      "Working on files:  78%|███████▊  | 112/144 [1:17:16<32:44, 61.40s/it]"
     ]
    },
    {
     "name": "stdout",
     "output_type": "stream",
     "text": [
      "1/1 [==============================] - 1s 607ms/step\n",
      "1/1 [==============================] - 1s 630ms/step\n"
     ]
    },
    {
     "name": "stderr",
     "output_type": "stream",
     "text": [
      "Working on files:  78%|███████▊  | 113/144 [1:18:42<35:36, 68.91s/it]"
     ]
    },
    {
     "name": "stdout",
     "output_type": "stream",
     "text": [
      "1/1 [==============================] - 1s 691ms/step\n",
      "1/1 [==============================] - 1s 704ms/step\n"
     ]
    },
    {
     "name": "stderr",
     "output_type": "stream",
     "text": [
      "Working on files:  79%|███████▉  | 114/144 [1:19:44<33:20, 66.69s/it]"
     ]
    },
    {
     "name": "stdout",
     "output_type": "stream",
     "text": [
      "1/1 [==============================] - 1s 706ms/step\n",
      "1/1 [==============================] - 1s 727ms/step\n"
     ]
    },
    {
     "name": "stderr",
     "output_type": "stream",
     "text": [
      "Working on files:  80%|███████▉  | 115/144 [1:20:09<26:16, 54.35s/it]"
     ]
    },
    {
     "name": "stdout",
     "output_type": "stream",
     "text": [
      "1/1 [==============================] - 1s 621ms/step\n",
      "1/1 [==============================] - 1s 679ms/step\n"
     ]
    },
    {
     "name": "stderr",
     "output_type": "stream",
     "text": [
      "Working on files:  81%|████████  | 116/144 [1:21:13<26:42, 57.22s/it]"
     ]
    },
    {
     "name": "stdout",
     "output_type": "stream",
     "text": [
      "1/1 [==============================] - 1s 830ms/step\n",
      "1/1 [==============================] - 1s 844ms/step\n"
     ]
    },
    {
     "name": "stderr",
     "output_type": "stream",
     "text": [
      "Working on files:  81%|████████▏ | 117/144 [1:22:19<26:56, 59.87s/it]"
     ]
    },
    {
     "name": "stdout",
     "output_type": "stream",
     "text": [
      "1/1 [==============================] - 1s 598ms/step\n",
      "1/1 [==============================] - 1s 712ms/step\n"
     ]
    },
    {
     "name": "stderr",
     "output_type": "stream",
     "text": [
      "Working on files:  82%|████████▏ | 118/144 [1:23:50<29:55, 69.04s/it]"
     ]
    },
    {
     "name": "stdout",
     "output_type": "stream",
     "text": [
      "1/1 [==============================] - 1s 803ms/step\n",
      "1/1 [==============================] - 1s 689ms/step\n"
     ]
    },
    {
     "name": "stderr",
     "output_type": "stream",
     "text": [
      "Working on files:  83%|████████▎ | 119/144 [1:24:40<26:26, 63.48s/it]"
     ]
    },
    {
     "name": "stdout",
     "output_type": "stream",
     "text": [
      "1/1 [==============================] - 1s 601ms/step\n",
      "1/1 [==============================] - 1s 683ms/step\n"
     ]
    },
    {
     "name": "stderr",
     "output_type": "stream",
     "text": [
      "Working on files:  83%|████████▎ | 120/144 [1:25:55<26:47, 66.98s/it]"
     ]
    },
    {
     "name": "stdout",
     "output_type": "stream",
     "text": [
      "1/1 [==============================] - 1s 695ms/step\n",
      "1/1 [==============================] - 1s 618ms/step\n"
     ]
    },
    {
     "name": "stderr",
     "output_type": "stream",
     "text": [
      "Working on files:  84%|████████▍ | 121/144 [1:26:22<21:00, 54.80s/it]"
     ]
    },
    {
     "name": "stdout",
     "output_type": "stream",
     "text": [
      "1/1 [==============================] - 1s 598ms/step\n",
      "1/1 [==============================] - 1s 611ms/step\n"
     ]
    },
    {
     "name": "stderr",
     "output_type": "stream",
     "text": [
      "Working on files:  85%|████████▍ | 122/144 [1:26:52<17:22, 47.40s/it]"
     ]
    },
    {
     "name": "stdout",
     "output_type": "stream",
     "text": [
      "1/1 [==============================] - 1s 594ms/step\n",
      "1/1 [==============================] - 1s 777ms/step\n"
     ]
    },
    {
     "name": "stderr",
     "output_type": "stream",
     "text": [
      "Working on files:  85%|████████▌ | 123/144 [1:27:17<14:12, 40.59s/it]"
     ]
    },
    {
     "name": "stdout",
     "output_type": "stream",
     "text": [
      "1/1 [==============================] - 1s 586ms/step\n",
      "1/1 [==============================] - 1s 615ms/step\n"
     ]
    },
    {
     "name": "stderr",
     "output_type": "stream",
     "text": [
      "Working on files:  86%|████████▌ | 124/144 [1:27:46<12:24, 37.22s/it]"
     ]
    },
    {
     "name": "stdout",
     "output_type": "stream",
     "text": [
      "1/1 [==============================] - 1s 572ms/step\n",
      "1/1 [==============================] - 1s 650ms/step\n"
     ]
    },
    {
     "name": "stderr",
     "output_type": "stream",
     "text": [
      "Working on files:  87%|████████▋ | 125/144 [1:28:41<13:28, 42.53s/it]"
     ]
    },
    {
     "name": "stdout",
     "output_type": "stream",
     "text": [
      "1/1 [==============================] - 1s 639ms/step\n",
      "1/1 [==============================] - 1s 647ms/step\n"
     ]
    },
    {
     "name": "stderr",
     "output_type": "stream",
     "text": [
      "Working on files:  88%|████████▊ | 126/144 [1:29:54<15:29, 51.63s/it]"
     ]
    },
    {
     "name": "stdout",
     "output_type": "stream",
     "text": [
      "1/1 [==============================] - 1s 645ms/step\n",
      "1/1 [==============================] - 1s 747ms/step\n"
     ]
    },
    {
     "name": "stderr",
     "output_type": "stream",
     "text": [
      "Working on files:  88%|████████▊ | 127/144 [1:30:19<12:23, 43.72s/it]"
     ]
    },
    {
     "name": "stdout",
     "output_type": "stream",
     "text": [
      "1/1 [==============================] - 1s 604ms/step\n",
      "1/1 [==============================] - 1s 616ms/step\n"
     ]
    },
    {
     "name": "stderr",
     "output_type": "stream",
     "text": [
      "Working on files:  89%|████████▉ | 128/144 [1:31:05<11:51, 44.47s/it]"
     ]
    },
    {
     "name": "stdout",
     "output_type": "stream",
     "text": [
      "1/1 [==============================] - 1s 624ms/step\n",
      "1/1 [==============================] - 1s 621ms/step\n"
     ]
    },
    {
     "name": "stderr",
     "output_type": "stream",
     "text": [
      "Working on files:  90%|████████▉ | 129/144 [1:32:08<12:28, 49.87s/it]"
     ]
    },
    {
     "name": "stdout",
     "output_type": "stream",
     "text": [
      "1/1 [==============================] - 1s 658ms/step\n",
      "1/1 [==============================] - 1s 680ms/step\n"
     ]
    },
    {
     "name": "stderr",
     "output_type": "stream",
     "text": [
      "Working on files:  90%|█████████ | 130/144 [1:32:50<11:07, 47.67s/it]"
     ]
    },
    {
     "name": "stdout",
     "output_type": "stream",
     "text": [
      "1/1 [==============================] - 1s 813ms/step\n",
      "1/1 [==============================] - 1s 754ms/step\n"
     ]
    },
    {
     "name": "stderr",
     "output_type": "stream",
     "text": [
      "Working on files:  91%|█████████ | 131/144 [1:33:47<10:54, 50.33s/it]"
     ]
    },
    {
     "name": "stdout",
     "output_type": "stream",
     "text": [
      "1/1 [==============================] - 1s 629ms/step\n",
      "1/1 [==============================] - 1s 679ms/step\n"
     ]
    },
    {
     "name": "stderr",
     "output_type": "stream",
     "text": [
      "Working on files:  92%|█████████▏| 132/144 [1:34:15<08:42, 43.53s/it]"
     ]
    },
    {
     "name": "stdout",
     "output_type": "stream",
     "text": [
      "1/1 [==============================] - 1s 662ms/step\n",
      "1/1 [==============================] - 1s 674ms/step\n"
     ]
    },
    {
     "name": "stderr",
     "output_type": "stream",
     "text": [
      "Working on files:  92%|█████████▏| 133/144 [1:34:39<06:56, 37.89s/it]"
     ]
    },
    {
     "name": "stdout",
     "output_type": "stream",
     "text": [
      "1/1 [==============================] - 1s 715ms/step\n",
      "1/1 [==============================] - 1s 705ms/step\n"
     ]
    },
    {
     "name": "stderr",
     "output_type": "stream",
     "text": [
      "Working on files:  93%|█████████▎| 134/144 [1:35:18<06:22, 38.29s/it]"
     ]
    },
    {
     "name": "stdout",
     "output_type": "stream",
     "text": [
      "1/1 [==============================] - 1s 716ms/step\n",
      "1/1 [==============================] - 1s 781ms/step\n"
     ]
    },
    {
     "name": "stderr",
     "output_type": "stream",
     "text": [
      "Working on files:  94%|█████████▍| 135/144 [1:36:27<07:07, 47.47s/it]"
     ]
    },
    {
     "name": "stdout",
     "output_type": "stream",
     "text": [
      "1/1 [==============================] - 1s 647ms/step\n",
      "1/1 [==============================] - 1s 650ms/step\n"
     ]
    },
    {
     "name": "stderr",
     "output_type": "stream",
     "text": [
      "Working on files:  94%|█████████▍| 136/144 [1:37:31<06:59, 52.38s/it]"
     ]
    },
    {
     "name": "stdout",
     "output_type": "stream",
     "text": [
      "1/1 [==============================] - 1s 622ms/step\n",
      "1/1 [==============================] - 1s 879ms/step\n"
     ]
    },
    {
     "name": "stderr",
     "output_type": "stream",
     "text": [
      "Working on files:  95%|█████████▌| 137/144 [1:38:59<07:21, 63.04s/it]"
     ]
    },
    {
     "name": "stdout",
     "output_type": "stream",
     "text": [
      "1/1 [==============================] - 1s 684ms/step\n",
      "1/1 [==============================] - 1s 641ms/step\n"
     ]
    },
    {
     "name": "stderr",
     "output_type": "stream",
     "text": [
      "Working on files:  96%|█████████▌| 138/144 [1:39:52<06:00, 60.15s/it]"
     ]
    },
    {
     "name": "stdout",
     "output_type": "stream",
     "text": [
      "1/1 [==============================] - 1s 693ms/step\n",
      "1/1 [==============================] - 1s 649ms/step\n"
     ]
    },
    {
     "name": "stderr",
     "output_type": "stream",
     "text": [
      "Working on files:  97%|█████████▋| 139/144 [1:40:17<04:07, 49.42s/it]"
     ]
    },
    {
     "name": "stdout",
     "output_type": "stream",
     "text": [
      "1/1 [==============================] - 1s 595ms/step\n",
      "1/1 [==============================] - 1s 651ms/step\n"
     ]
    },
    {
     "name": "stderr",
     "output_type": "stream",
     "text": [
      "Working on files:  97%|█████████▋| 140/144 [1:40:43<02:49, 42.31s/it]"
     ]
    },
    {
     "name": "stdout",
     "output_type": "stream",
     "text": [
      "1/1 [==============================] - 1s 595ms/step\n",
      "1/1 [==============================] - 1s 626ms/step\n"
     ]
    },
    {
     "name": "stderr",
     "output_type": "stream",
     "text": [
      "Working on files:  98%|█████████▊| 141/144 [1:42:07<02:44, 54.95s/it]"
     ]
    },
    {
     "name": "stdout",
     "output_type": "stream",
     "text": [
      "1/1 [==============================] - 1s 603ms/step\n",
      "1/1 [==============================] - 1s 632ms/step\n"
     ]
    },
    {
     "name": "stderr",
     "output_type": "stream",
     "text": [
      "Working on files:  99%|█████████▊| 142/144 [1:43:37<02:11, 65.57s/it]"
     ]
    },
    {
     "name": "stdout",
     "output_type": "stream",
     "text": [
      "1/1 [==============================] - 1s 586ms/step\n",
      "1/1 [==============================] - 1s 613ms/step\n"
     ]
    },
    {
     "name": "stderr",
     "output_type": "stream",
     "text": [
      "Working on files:  99%|█████████▉| 143/144 [1:44:00<00:52, 52.66s/it]"
     ]
    },
    {
     "name": "stdout",
     "output_type": "stream",
     "text": [
      "1/1 [==============================] - 1s 589ms/step\n",
      "1/1 [==============================] - 1s 613ms/step\n"
     ]
    },
    {
     "name": "stderr",
     "output_type": "stream",
     "text": [
      "Working on files: 100%|██████████| 144/144 [1:44:56<00:00, 43.72s/it]\n"
     ]
    }
   ],
   "source": [
    "mapbox_access_token = input('Enter Mapbox Aceess Token: ')\n",
    "zoom_level = 9.5\n",
    "image_size = '3000x3000' \n",
    "model = VGG16(weights='imagenet', include_top=False)\n",
    "\n",
    "for f in tqdm(glob.glob('../data/images/*.jpg'), desc=\"Working on files\"):\n",
    "    df = pd.read_csv('../results/NN-Eval.csv')\n",
    "\n",
    "    query_image_name = os.path.basename(f).split('.')[0]\n",
    "    df_index = df[df['Image'] == query_image_name].index\n",
    "\n",
    "    if (len(df_index) == 0):\n",
    "        new_row = {'Image': query_image_name}\n",
    "        df = pd.concat([df, pd.DataFrame([new_row])], ignore_index=True)\n",
    "        df_index = df[df['Image'] == query_image_name].index\n",
    "\n",
    "    query_img = Image.open(f)\n",
    "    exif_data = get_exif_data(f)\n",
    "\n",
    "    if df_index.any():\n",
    "        if pd.isna(df.at[df_index[0], 'Best Match 1']) and pd.isna(df.at[df_index[0], 'Issues']):\n",
    "            gps_latitude = exif_data.get('GPSLatitude', None)\n",
    "            gps_latitude_ref = exif_data.get('GPSLatitudeRef', None)\n",
    "            gps_longitude = exif_data.get('GPSLongitude', None)\n",
    "            gps_longitude_ref = exif_data.get('GPSLongitudeRef', None)\n",
    "            \n",
    "            if gps_latitude and gps_latitude_ref and gps_longitude and gps_longitude_ref:\n",
    "                lat, long = get_geo_coord(gps_latitude, gps_latitude_ref, gps_longitude, gps_longitude_ref)\n",
    "                aoi_img = fetch_map_image(lat, long, zoom_level, image_size, mapbox_access_token)\n",
    "                if aoi_img.mode != 'RGB':\n",
    "                    aoi_img = aoi_img.convert('RGB')\n",
    "                \n",
    "                query_features = extract_features(query_img, model)\n",
    "                aoi_features = extract_features(aoi_img, model)\n",
    "                location, _, correlation_map = find_query_in_aoi(query_features, aoi_features)\n",
    "                \n",
    "                top_left_aoi, top_right_aoi, bottom_right_aoi, bottom_left_aoi = calculate_mapbox_bounding_box(lat, long, zoom_level, aoi_img.width, aoi_img.height)\n",
    "                best_match, second_best_match = find_best_matches(correlation_map)\n",
    "\n",
    "                if best_match is not None and second_best_match is not None:\n",
    "                    aoi_best_match = scale_correlation_to_aoi(best_match, correlation_map.shape, (aoi_img.width, aoi_img.height))\n",
    "                    geo_coords_best_match = interpolate_geo_coordinates(aoi_best_match, top_left_aoi, bottom_right_aoi, (aoi_img.width, aoi_img.height))\n",
    "\n",
    "                    aoi_second_best_match = scale_correlation_to_aoi(second_best_match, correlation_map.shape, (aoi_img.width, aoi_img.height))\n",
    "                    geo_coords_second_best_match = interpolate_geo_coordinates(aoi_second_best_match, top_left_aoi, bottom_right_aoi, (aoi_img.width, aoi_img.height))\n",
    "\n",
    "                    midpoint = find_midpoint(best_match, second_best_match)\n",
    "                    aoi_midpoint = scale_correlation_to_aoi(midpoint, correlation_map.shape, (aoi_img.width, aoi_img.height))\n",
    "                    geo_coords = interpolate_geo_coordinates(aoi_midpoint, top_left_aoi, bottom_right_aoi, (aoi_img.width, aoi_img.height))\n",
    "                    \n",
    "                    if df_index.any():\n",
    "                        df.at[df_index[0], 'Best Match 1'] = str(f'{geo_coords_best_match[0]}, {geo_coords_best_match[1]}')\n",
    "                        df.at[df_index[0], 'Best Match 2'] = str(f'{geo_coords_second_best_match[0]}, {geo_coords_second_best_match[1]}')\n",
    "                        df.at[df_index[0], 'Predicted Location'] = str(f'{geo_coords[0]}, {geo_coords[1]}')\n",
    "                \n",
    "                elif best_match is not None and second_best_match is None:\n",
    "                    if df_index.any():\n",
    "                        df.at[df_index[0], 'Best Match 1'] = str(f'{geo_coords_best_match[0]}, {geo_coords_best_match[1]}')\n",
    "                        df.at[df_index[0], 'Predicted Location'] = str(f'{geo_coords_best_match[0]}, {geo_coords_best_match[1]}')\n",
    "                        df.at[df_index[0], 'Issues'] = \"Only one match found.\"\n",
    "\n",
    "                else:\n",
    "                    if df_index.any():\n",
    "                        df.at[df_index[0], 'Issues'] = \"Match not found.\"\n",
    "                \n",
    "            else:\n",
    "                if df_index.any():\n",
    "                    df.at[df_index[0], 'Issues'] = \"GPS data is incomplete or not available in the image.\"\n",
    "\n",
    "            df.to_csv('../results/NN-Eval.csv', index=False)\n",
    "    \n"
   ]
  },
  {
   "cell_type": "code",
   "execution_count": 4,
   "metadata": {},
   "outputs": [
    {
     "data": {
      "text/html": [
       "<div>\n",
       "<style scoped>\n",
       "    .dataframe tbody tr th:only-of-type {\n",
       "        vertical-align: middle;\n",
       "    }\n",
       "\n",
       "    .dataframe tbody tr th {\n",
       "        vertical-align: top;\n",
       "    }\n",
       "\n",
       "    .dataframe thead th {\n",
       "        text-align: right;\n",
       "    }\n",
       "</style>\n",
       "<table border=\"1\" class=\"dataframe\">\n",
       "  <thead>\n",
       "    <tr style=\"text-align: right;\">\n",
       "      <th></th>\n",
       "      <th>Image</th>\n",
       "      <th>Location</th>\n",
       "      <th>Type</th>\n",
       "      <th>Notes</th>\n",
       "      <th>Best Match 1</th>\n",
       "      <th>Best Match 2</th>\n",
       "      <th>Predicted Location</th>\n",
       "      <th>Issues</th>\n",
       "    </tr>\n",
       "  </thead>\n",
       "  <tbody>\n",
       "    <tr>\n",
       "      <th>0</th>\n",
       "      <td>iss065e012968</td>\n",
       "      <td>23.742209, 120.791696</td>\n",
       "      <td>night</td>\n",
       "      <td>Taiwan</td>\n",
       "      <td>NaN</td>\n",
       "      <td>NaN</td>\n",
       "      <td>NaN</td>\n",
       "      <td>NaN</td>\n",
       "    </tr>\n",
       "    <tr>\n",
       "      <th>1</th>\n",
       "      <td>iss065e012854</td>\n",
       "      <td>24.399968, 39.580929</td>\n",
       "      <td>city, desert</td>\n",
       "      <td>Medina, Saudi Arabia</td>\n",
       "      <td>24.243869682062538, 34.50965802339215</td>\n",
       "      <td>23.575597653538267, 31.96061662545327</td>\n",
       "      <td>23.909733667800403, 33.23513732442271</td>\n",
       "      <td>NaN</td>\n",
       "    </tr>\n",
       "    <tr>\n",
       "      <th>2</th>\n",
       "      <td>iss065e012122</td>\n",
       "      <td>21.916841, 17.409515</td>\n",
       "      <td>mountains, desert</td>\n",
       "      <td>Tibesti Mountains, Chad</td>\n",
       "      <td>21.859068677152404, 9.468757021178105</td>\n",
       "      <td>22.869221341312457, 11.471575262415776</td>\n",
       "      <td>22.36414500923243, 10.470166141796941</td>\n",
       "      <td>NaN</td>\n",
       "    </tr>\n",
       "    <tr>\n",
       "      <th>3</th>\n",
       "      <td>iss040e092721</td>\n",
       "      <td>37.901332, 15.333352</td>\n",
       "      <td>volcano, island</td>\n",
       "      <td>Mount Etna and Sicily</td>\n",
       "      <td>37.99098385053961, 16.621670698969467</td>\n",
       "      <td>37.99098385053961, 14.983001228865902</td>\n",
       "      <td>37.99098385053961, 15.802335963917685</td>\n",
       "      <td>NaN</td>\n",
       "    </tr>\n",
       "    <tr>\n",
       "      <th>4</th>\n",
       "      <td>iss040e125148</td>\n",
       "      <td>51.959667, 4.072454</td>\n",
       "      <td>port</td>\n",
       "      <td>Maasvlakte Rotterdam</td>\n",
       "      <td>52.16862486467835, 4.377214208934959</td>\n",
       "      <td>51.264086859953494, 3.102693509965519</td>\n",
       "      <td>51.71635586231592, 3.739953859450239</td>\n",
       "      <td>NaN</td>\n",
       "    </tr>\n",
       "    <tr>\n",
       "      <th>...</th>\n",
       "      <td>...</td>\n",
       "      <td>...</td>\n",
       "      <td>...</td>\n",
       "      <td>...</td>\n",
       "      <td>...</td>\n",
       "      <td>...</td>\n",
       "      <td>...</td>\n",
       "      <td>...</td>\n",
       "    </tr>\n",
       "    <tr>\n",
       "      <th>139</th>\n",
       "      <td>iss056e126635</td>\n",
       "      <td>22.511201, 32.948643</td>\n",
       "      <td>NaN</td>\n",
       "      <td>Lake Nasser, Egypt</td>\n",
       "      <td>23.467633252740086, 34.45256236563611</td>\n",
       "      <td>23.299183131042493, 31.72144658213017</td>\n",
       "      <td>23.38340819189129, 33.08700447388314</td>\n",
       "      <td>NaN</td>\n",
       "    </tr>\n",
       "    <tr>\n",
       "      <th>140</th>\n",
       "      <td>iss036e049939</td>\n",
       "      <td>-3.061136, 37.352760</td>\n",
       "      <td>volcano</td>\n",
       "      <td>Mount Kilimanjaro, Tanzania</td>\n",
       "      <td>-1.4807118710086793, 35.69675412439839</td>\n",
       "      <td>-3.117553993689355, 36.42505166666665</td>\n",
       "      <td>-2.299132932349017, 36.06090289553252</td>\n",
       "      <td>NaN</td>\n",
       "    </tr>\n",
       "    <tr>\n",
       "      <th>141</th>\n",
       "      <td>iss057e114906</td>\n",
       "      <td>33.245924, -119.475401</td>\n",
       "      <td>island</td>\n",
       "      <td>San Nicolas Island, California</td>\n",
       "      <td>NaN</td>\n",
       "      <td>NaN</td>\n",
       "      <td>NaN</td>\n",
       "      <td>Match not found.</td>\n",
       "    </tr>\n",
       "    <tr>\n",
       "      <th>142</th>\n",
       "      <td>iss055e114459</td>\n",
       "      <td>-17.620422, 139.094148</td>\n",
       "      <td>NaN</td>\n",
       "      <td>Gulf of Carpentaria, Australia</td>\n",
       "      <td>-21.388845411417968, 139.35405069896947</td>\n",
       "      <td>-21.55756514109225, 137.35123245773178</td>\n",
       "      <td>-21.47320527625511, 138.35264157835064</td>\n",
       "      <td>NaN</td>\n",
       "    </tr>\n",
       "    <tr>\n",
       "      <th>143</th>\n",
       "      <td>iss055e114385</td>\n",
       "      <td>NaN</td>\n",
       "      <td>NaN</td>\n",
       "      <td>NaN</td>\n",
       "      <td>NaN</td>\n",
       "      <td>NaN</td>\n",
       "      <td>NaN</td>\n",
       "      <td>Match not found.</td>\n",
       "    </tr>\n",
       "  </tbody>\n",
       "</table>\n",
       "<p>144 rows × 8 columns</p>\n",
       "</div>"
      ],
      "text/plain": [
       "             Image                Location               Type  \\\n",
       "0    iss065e012968   23.742209, 120.791696              night   \n",
       "1    iss065e012854    24.399968, 39.580929       city, desert   \n",
       "2    iss065e012122    21.916841, 17.409515  mountains, desert   \n",
       "3    iss040e092721    37.901332, 15.333352    volcano, island   \n",
       "4    iss040e125148     51.959667, 4.072454               port   \n",
       "..             ...                     ...                ...   \n",
       "139  iss056e126635    22.511201, 32.948643                NaN   \n",
       "140  iss036e049939    -3.061136, 37.352760            volcano   \n",
       "141  iss057e114906  33.245924, -119.475401             island   \n",
       "142  iss055e114459  -17.620422, 139.094148                NaN   \n",
       "143  iss055e114385                     NaN                NaN   \n",
       "\n",
       "                              Notes                             Best Match 1  \\\n",
       "0                            Taiwan                                      NaN   \n",
       "1              Medina, Saudi Arabia    24.243869682062538, 34.50965802339215   \n",
       "2           Tibesti Mountains, Chad    21.859068677152404, 9.468757021178105   \n",
       "3             Mount Etna and Sicily    37.99098385053961, 16.621670698969467   \n",
       "4              Maasvlakte Rotterdam     52.16862486467835, 4.377214208934959   \n",
       "..                              ...                                      ...   \n",
       "139              Lake Nasser, Egypt    23.467633252740086, 34.45256236563611   \n",
       "140     Mount Kilimanjaro, Tanzania   -1.4807118710086793, 35.69675412439839   \n",
       "141  San Nicolas Island, California                                      NaN   \n",
       "142  Gulf of Carpentaria, Australia  -21.388845411417968, 139.35405069896947   \n",
       "143                             NaN                                      NaN   \n",
       "\n",
       "                               Best Match 2  \\\n",
       "0                                       NaN   \n",
       "1     23.575597653538267, 31.96061662545327   \n",
       "2    22.869221341312457, 11.471575262415776   \n",
       "3     37.99098385053961, 14.983001228865902   \n",
       "4     51.264086859953494, 3.102693509965519   \n",
       "..                                      ...   \n",
       "139   23.299183131042493, 31.72144658213017   \n",
       "140   -3.117553993689355, 36.42505166666665   \n",
       "141                                     NaN   \n",
       "142  -21.55756514109225, 137.35123245773178   \n",
       "143                                     NaN   \n",
       "\n",
       "                         Predicted Location            Issues  \n",
       "0                                       NaN               NaN  \n",
       "1     23.909733667800403, 33.23513732442271               NaN  \n",
       "2     22.36414500923243, 10.470166141796941               NaN  \n",
       "3     37.99098385053961, 15.802335963917685               NaN  \n",
       "4      51.71635586231592, 3.739953859450239               NaN  \n",
       "..                                      ...               ...  \n",
       "139    23.38340819189129, 33.08700447388314               NaN  \n",
       "140   -2.299132932349017, 36.06090289553252               NaN  \n",
       "141                                     NaN  Match not found.  \n",
       "142  -21.47320527625511, 138.35264157835064               NaN  \n",
       "143                                     NaN  Match not found.  \n",
       "\n",
       "[144 rows x 8 columns]"
      ]
     },
     "execution_count": 4,
     "metadata": {},
     "output_type": "execute_result"
    }
   ],
   "source": [
    "df = pd.read_csv('../results/NN-Eval.csv')\n",
    "df"
   ]
  },
  {
   "cell_type": "code",
   "execution_count": null,
   "metadata": {},
   "outputs": [],
   "source": []
  }
 ],
 "metadata": {
  "kernelspec": {
   "display_name": "base",
   "language": "python",
   "name": "python3"
  },
  "language_info": {
   "codemirror_mode": {
    "name": "ipython",
    "version": 3
   },
   "file_extension": ".py",
   "mimetype": "text/x-python",
   "name": "python",
   "nbconvert_exporter": "python",
   "pygments_lexer": "ipython3",
   "version": "3.11.5"
  }
 },
 "nbformat": 4,
 "nbformat_minor": 2
}
