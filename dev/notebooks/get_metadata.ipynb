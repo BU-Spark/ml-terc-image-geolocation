{
 "cells": [
  {
   "cell_type": "markdown",
   "metadata": {},
   "source": [
    "# Extracting metadata from the images\n",
    "\n",
    "This script is designed to methodically extract and catalogue embedded information, known as EXIF (Exchangeable Image File Format) data, from a collection of digital photographs. Each digital image file, beyond just the visible content, contains a potentially rich set of metadata detailing aspects such as the geographic coordinates where the photo was taken, the timestamp, the camera model, and various other technical parameters.\n",
    "\n",
    "Initiating its process, the script employs the `glob` module as a means to systematically identify and access all files within a specified directory that conform to a standard image format, typically denoted by the `.jpg` extension. Upon locating these files, it proceeds to unravel the layers of metadata concealed within each photo, utilizing the `PIL` (Python Imaging Library) to interpret and translate the encoded information into a human-readable format.\n",
    "\n",
    "In instances where the metadata components are identified as binary data sequences, the script judiciously decodes these segments into ASCII text, ensuring consistency and comprehensibility in the resultant data pool. The extracted information, having been sorted and translated, is subsequently consolidated into a structured data frame using the `pandas` library—an organized, tabular construct that facilitates efficient data manipulation and analysis.\n",
    "\n",
    "To culminate its operation, the script compiles the amassed information into a singular, comprehensive CSV (Comma-Separated Values) document, effectively cataloging the entirety of the extracted EXIF data in a uniform and accessible manner. This file is then saved to a predetermined repository, thereby preserving the metadata ensemble for subsequent review, research, or data-driven decision-making processes. In essence, the script executes a thorough extraction and refinement procedure to harvest, refine, and archive the latent data within digital images, rendering it accessible and usable for further analytical endeavors."
   ]
  },
  {
   "cell_type": "code",
   "execution_count": 65,
   "metadata": {},
   "outputs": [],
   "source": [
    "import glob\n",
    "from PIL import Image\n",
    "from PIL.ExifTags import TAGS, GPSTAGS\n",
    "import pandas as pd\n",
    "\n",
    "def get_exif_data(image_path):\n",
    "    image = Image.open(image_path)\n",
    "    exif_data = image._getexif()\n",
    "    exif_dict = {}\n",
    "    exif_dict['ImageFilename'] = image_path.split(\"\\\\\")[1]\n",
    "    if exif_data is not None:\n",
    "        for key, value in exif_data.items():\n",
    "            if key in TAGS:\n",
    "                tag = TAGS[key]\n",
    "                if tag == 'GPSInfo':\n",
    "                    gps_data = {}\n",
    "                    for t in value:\n",
    "                        sub_tag = GPSTAGS.get(t, t)\n",
    "                        if str( value[t])[0]=='b':\n",
    "                            gps_data[sub_tag] =  value[t].decode('ascii')\n",
    "                        else:\n",
    "                            gps_data[sub_tag] = value[t]\n",
    "                    exif_dict.update(zip(list(gps_data.keys()), list(gps_data.values())))\n",
    "                else:\n",
    "                    if str(value)[0]=='b':\n",
    "                        exif_dict[tag] = value.decode('ascii')\n",
    "                    else:\n",
    "                        exif_dict[tag] = value\n",
    "    return exif_dict\n",
    "\n",
    "\n",
    "if __name__ == \"__main__\":\n",
    "    image_files = glob.glob('/projectnb/ds549/students/vedikas/ml-terc-image-geolocation/data/*.jpg')\n",
    "    all_exif_data = []\n",
    "    \n",
    "    for image_path in image_files:\n",
    "        exif_data = get_exif_data(image_path)  \n",
    "        all_exif_data.append(exif_data)\n",
    "    \n",
    "    df = pd.DataFrame(all_exif_data)\n",
    "    df.to_csv('/projectnb/ds549/students/vedikas/ml-terc-image-geolocation/data/exif_metadata.csv', index=False)"
   ]
  }
 ],
 "metadata": {
  "kernelspec": {
   "display_name": "base",
   "language": "python",
   "name": "python3"
  },
  "language_info": {
   "codemirror_mode": {
    "name": "ipython",
    "version": 3
   },
   "file_extension": ".py",
   "mimetype": "text/x-python",
   "name": "python",
   "nbconvert_exporter": "python",
   "pygments_lexer": "ipython3",
   "version": "3.10.12"
  }
 },
 "nbformat": 4,
 "nbformat_minor": 2
}
