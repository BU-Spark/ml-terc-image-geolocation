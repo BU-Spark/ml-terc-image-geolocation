{
 "cells": [
  {
   "cell_type": "code",
   "execution_count": 65,
   "metadata": {},
   "outputs": [],
   "source": [
    "import glob\n",
    "from PIL import Image\n",
    "from PIL.ExifTags import TAGS, GPSTAGS\n",
    "import pandas as pd\n",
    "\n",
    "def get_exif_data(image_path):\n",
    "    image = Image.open(image_path)\n",
    "    exif_data = image._getexif()\n",
    "    exif_dict = {}\n",
    "    exif_dict['ImageFilename'] = image_path.split(\"\\\\\")[1]\n",
    "    if exif_data is not None:\n",
    "        for key, value in exif_data.items():\n",
    "            if key in TAGS:\n",
    "                tag = TAGS[key]\n",
    "                if tag == 'GPSInfo':\n",
    "                    gps_data = {}\n",
    "                    for t in value:\n",
    "                        sub_tag = GPSTAGS.get(t, t)\n",
    "                        if str( value[t])[0]=='b':\n",
    "                            gps_data[sub_tag] =  value[t].decode('ascii')\n",
    "                        else:\n",
    "                            gps_data[sub_tag] = value[t]\n",
    "                    exif_dict.update(zip(list(gps_data.keys()), list(gps_data.values())))\n",
    "                else:\n",
    "                    if str(value)[0]=='b':\n",
    "                        exif_dict[tag] = value.decode('ascii')\n",
    "                    else:\n",
    "                        exif_dict[tag] = value\n",
    "    return exif_dict\n",
    "\n",
    "\n",
    "if __name__ == \"__main__\":\n",
    "    image_files = glob.glob('data/*.jpg')\n",
    "    all_exif_data = []\n",
    "    \n",
    "    for image_path in image_files:\n",
    "        exif_data = get_exif_data(image_path)  \n",
    "        all_exif_data.append(exif_data)\n",
    "    \n",
    "    df = pd.DataFrame(all_exif_data)\n",
    "    df.to_csv('data/exif_metadata.csv', index=False)"
   ]
  },
  {
   "cell_type": "code",
   "execution_count": null,
   "metadata": {},
   "outputs": [],
   "source": []
  }
 ],
 "metadata": {
  "kernelspec": {
   "display_name": "base",
   "language": "python",
   "name": "python3"
  },
  "language_info": {
   "codemirror_mode": {
    "name": "ipython",
    "version": 3
   },
   "file_extension": ".py",
   "mimetype": "text/x-python",
   "name": "python",
   "nbconvert_exporter": "python",
   "pygments_lexer": "ipython3",
   "version": "3.11.5"
  }
 },
 "nbformat": 4,
 "nbformat_minor": 2
}
