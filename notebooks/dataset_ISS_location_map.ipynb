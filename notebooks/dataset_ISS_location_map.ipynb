{
 "cells": [
  {
   "cell_type": "code",
   "execution_count": 1,
   "metadata": {},
   "outputs": [
    {
     "name": "stdout",
     "output_type": "stream",
     "text": [
      "Requirement already satisfied: pandas in c:\\users\\iamhe\\appdata\\local\\programs\\python\\python311\\lib\\site-packages (2.0.0)\n",
      "Collecting folium\n",
      "  Downloading folium-0.14.0-py2.py3-none-any.whl (102 kB)\n",
      "                                              0.0/102.3 kB ? eta -:--:--\n",
      "     ----                                     10.2/102.3 kB ? eta -:--:--\n",
      "     -----------                           30.7/102.3 kB 445.2 kB/s eta 0:00:01\n",
      "     --------------                        41.0/102.3 kB 281.8 kB/s eta 0:00:01\n",
      "     --------------                        41.0/102.3 kB 281.8 kB/s eta 0:00:01\n",
      "     --------------                        41.0/102.3 kB 281.8 kB/s eta 0:00:01\n",
      "     ----------------------                61.4/102.3 kB 218.8 kB/s eta 0:00:01\n",
      "     ---------------------------------     92.2/102.3 kB 276.8 kB/s eta 0:00:01\n",
      "     ------------------------------------ 102.3/102.3 kB 295.0 kB/s eta 0:00:00\n",
      "Requirement already satisfied: python-dateutil>=2.8.2 in c:\\users\\iamhe\\appdata\\local\\programs\\python\\python311\\lib\\site-packages (from pandas) (2.8.2)\n",
      "Requirement already satisfied: pytz>=2020.1 in c:\\users\\iamhe\\appdata\\local\\programs\\python\\python311\\lib\\site-packages (from pandas) (2023.3)\n",
      "Requirement already satisfied: tzdata>=2022.1 in c:\\users\\iamhe\\appdata\\local\\programs\\python\\python311\\lib\\site-packages (from pandas) (2023.3)\n",
      "Requirement already satisfied: numpy>=1.21.0 in c:\\users\\iamhe\\appdata\\local\\programs\\python\\python311\\lib\\site-packages (from pandas) (1.23.5)\n",
      "Collecting branca>=0.6.0 (from folium)\n",
      "  Downloading branca-0.6.0-py3-none-any.whl (24 kB)\n",
      "Requirement already satisfied: jinja2>=2.9 in c:\\users\\iamhe\\appdata\\local\\programs\\python\\python311\\lib\\site-packages (from folium) (3.1.2)\n",
      "Requirement already satisfied: requests in c:\\users\\iamhe\\appdata\\local\\programs\\python\\python311\\lib\\site-packages (from folium) (2.28.2)\n",
      "Requirement already satisfied: MarkupSafe>=2.0 in c:\\users\\iamhe\\appdata\\local\\programs\\python\\python311\\lib\\site-packages (from jinja2>=2.9->folium) (2.1.2)\n",
      "Requirement already satisfied: six>=1.5 in c:\\users\\iamhe\\appdata\\local\\programs\\python\\python311\\lib\\site-packages (from python-dateutil>=2.8.2->pandas) (1.16.0)\n",
      "Requirement already satisfied: charset-normalizer<4,>=2 in c:\\users\\iamhe\\appdata\\local\\programs\\python\\python311\\lib\\site-packages (from requests->folium) (3.1.0)\n",
      "Requirement already satisfied: idna<4,>=2.5 in c:\\users\\iamhe\\appdata\\local\\programs\\python\\python311\\lib\\site-packages (from requests->folium) (3.4)\n",
      "Requirement already satisfied: urllib3<1.27,>=1.21.1 in c:\\users\\iamhe\\appdata\\local\\programs\\python\\python311\\lib\\site-packages (from requests->folium) (1.26.15)\n",
      "Requirement already satisfied: certifi>=2017.4.17 in c:\\users\\iamhe\\appdata\\local\\programs\\python\\python311\\lib\\site-packages (from requests->folium) (2022.12.7)\n",
      "Installing collected packages: branca, folium\n",
      "Successfully installed branca-0.6.0 folium-0.14.0\n",
      "Note: you may need to restart the kernel to use updated packages.\n"
     ]
    },
    {
     "name": "stderr",
     "output_type": "stream",
     "text": [
      "\n",
      "[notice] A new release of pip is available: 23.1.2 -> 23.3\n",
      "[notice] To update, run: python.exe -m pip install --upgrade pip\n"
     ]
    }
   ],
   "source": [
    "%pip install pandas folium"
   ]
  },
  {
   "cell_type": "code",
   "execution_count": 1,
   "metadata": {},
   "outputs": [],
   "source": [
    "import pandas as pd\n",
    "import folium\n",
    "import ast  # for string to tuple conversion\n",
    "\n",
    "# Load the CSV\n",
    "file_path = '..\\data\\exif_metadata.csv'  # replace with your file path\n",
    "df = pd.read_csv(file_path)\n",
    "\n",
    "# Convert string tuple representation to actual tuple\n",
    "df['GPSLatitude'] = df['GPSLatitude'].apply(ast.literal_eval)\n",
    "df['GPSLongitude'] = df['GPSLongitude'].apply(ast.literal_eval)\n",
    "\n",
    "# Convert GPS coords to decimal format\n",
    "def dms_to_decimal(degrees, minutes, seconds):\n",
    "    return degrees + (minutes / 60) + (seconds / 3600)\n",
    "\n",
    "df['DecimalLatitude'] = df.apply(lambda row: dms_to_decimal(*row['GPSLatitude']) * (-1 if row['GPSLatitudeRef'] == 'S' else 1), axis=1)\n",
    "df['DecimalLongitude'] = df.apply(lambda row: dms_to_decimal(*row['GPSLongitude']) * (-1 if row['GPSLongitudeRef'] == 'W' else 1), axis=1)\n",
    "\n",
    "# Plot the coords on a map\n",
    "m = folium.Map(location=[0, 0], zoom_start=2)  # center the map at [0,0] and set a global zoom level\n",
    "\n",
    "for _, row in df.iterrows():\n",
    "    folium.CircleMarker(\n",
    "        location=(row['DecimalLatitude'], row['DecimalLongitude']),\n",
    "        radius=1,\n",
    "        color=\"red\",\n",
    "        fill=True,\n",
    "        fill_color=\"red\",\n",
    "        fill_opacity=0.6,\n",
    "    ).add_to(m)\n",
    "\n",
    "m.save(\"dataset_ISS_location_map.html\")\n"
   ]
  },
  {
   "cell_type": "code",
   "execution_count": null,
   "metadata": {},
   "outputs": [],
   "source": []
  }
 ],
 "metadata": {
  "kernelspec": {
   "display_name": "Python 3",
   "language": "python",
   "name": "python3"
  },
  "language_info": {
   "codemirror_mode": {
    "name": "ipython",
    "version": 3
   },
   "file_extension": ".py",
   "mimetype": "text/x-python",
   "name": "python",
   "nbconvert_exporter": "python",
   "pygments_lexer": "ipython3",
   "version": "3.11.3"
  }
 },
 "nbformat": 4,
 "nbformat_minor": 2
}
